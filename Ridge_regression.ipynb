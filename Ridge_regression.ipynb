{
 "cells": [
  {
   "cell_type": "code",
   "execution_count": 45,
   "metadata": {},
   "outputs": [],
   "source": [
    "import numpy as np\n",
    "import pandas as pd\n",
    "import statistics\n",
    "import csv\n",
    "import matplotlib.pyplot as plt"
   ]
  },
  {
   "cell_type": "code",
   "execution_count": 46,
   "metadata": {},
   "outputs": [],
   "source": [
    "from sklearn.model_selection import train_test_split\n",
    "from sklearn.linear_model import LinearRegression\n",
    "from sklearn.linear_model import Ridge\n",
    "from sklearn.metrics import mean_squared_error\n",
    "from sklearn.model_selection import KFold\n",
    "from sklearn.preprocessing import PolynomialFeatures\n",
    "from statistics import median\n",
    "from sklearn.model_selection import cross_val_score\n",
    "from sklearn.model_selection import GridSearchCV"
   ]
  },
  {
   "cell_type": "code",
   "execution_count": 47,
   "metadata": {},
   "outputs": [],
   "source": [
    "#reading training data\n",
    "data=pd.read_csv(\"train.csv\")\n",
    "features=\"x1 x2 x3 x4 x5\".split()\n",
    "df=pd.DataFrame(data,columns=features)\n",
    "target=pd.DataFrame(data,columns=[\"y\"])"
   ]
  },
  {
   "cell_type": "code",
   "execution_count": 48,
   "metadata": {},
   "outputs": [],
   "source": [
    "df1=df['x1']*df['x1']\n",
    "df2=df['x2']*df['x2']\n",
    "df3=df['x3']*df['x3']\n",
    "df4=df['x4']*df['x4']\n",
    "df5=df['x5']*df['x5']"
   ]
  },
  {
   "cell_type": "code",
   "execution_count": 49,
   "metadata": {},
   "outputs": [],
   "source": [
    "df6=np.exp(df)\n",
    "df7=np.cos(df)"
   ]
  },
  {
   "cell_type": "code",
   "execution_count": 50,
   "metadata": {},
   "outputs": [],
   "source": [
    "df['x6'] = df['x1']*df['x1']\n",
    "df['x7'] = df['x2']*df['x2']\n",
    "df['x8'] = df['x3']*df['x3']\n",
    "df['x9'] = df['x4']*df['x4']\n",
    "df['x10'] = df['x5']*df['x5']\n",
    "df['x11']=df6.x1\n",
    "df['x12']=df6.x2\n",
    "df['x13']=df6.x3\n",
    "df['x14']=df6.x4\n",
    "df['x15']=df6.x5\n",
    "df['x16']=df7.x1\n",
    "df['x17']=df7.x2\n",
    "df['x18']=df7.x3\n",
    "df['x19']=df7.x4\n",
    "df['x20']=df7.x5\n",
    "df['21']=np.ones(700)"
   ]
  },
  {
   "cell_type": "code",
   "execution_count": 51,
   "metadata": {},
   "outputs": [],
   "source": [
    "#splitting the given test data into training and test data(0.7:0.3 ratio)\n",
    "X_train, X_test, y_train, y_test = train_test_split(df,target,test_size=0.3,random_state=319)"
   ]
  },
  {
   "cell_type": "code",
   "execution_count": 52,
   "metadata": {},
   "outputs": [],
   "source": [
    "#Assigning the training data to new data frames\n",
    "X_new=X_train\n",
    "y_new=y_train"
   ]
  },
  {
   "cell_type": "code",
   "execution_count": 53,
   "metadata": {},
   "outputs": [
    {
     "name": "stdout",
     "output_type": "stream",
     "text": [
      "{'alpha': 46.41588833612777}\n"
     ]
    }
   ],
   "source": [
    "#performing k fold cross validation to tune alpha in ridge regression\n",
    "ridge=Ridge(fit_intercept=False)\n",
    "alpha=np.logspace(-1,10,100)\n",
    "parameters={'alpha':alpha}\n",
    "ridge_regressor=GridSearchCV(ridge,parameters,scoring='neg_mean_squared_error',cv=20)\n",
    "ridge_regressor.fit(X_new,y_new)\n",
    "#get the best alpha value\n",
    "alpha_min_error=ridge_regressor.best_params_\n",
    "print(ridge_regressor.best_params_)"
   ]
  },
  {
   "cell_type": "code",
   "execution_count": 54,
   "metadata": {},
   "outputs": [
    {
     "name": "stdout",
     "output_type": "stream",
     "text": [
      "RMSE is: 5.0323615441300555\n"
     ]
    }
   ],
   "source": [
    "#calculate RMSE for test data set\n",
    "prediction_ridge=ridge_regressor.predict(X_test)\n",
    "RMSE=mean_squared_error(y_test,prediction_ridge)**0.5\n",
    "print(\"RMSE is:\",RMSE)"
   ]
  },
  {
   "cell_type": "code",
   "execution_count": 55,
   "metadata": {},
   "outputs": [
    {
     "name": "stdout",
     "output_type": "stream",
     "text": [
      "RMSE is: 5.0322873254706435\n"
     ]
    }
   ],
   "source": [
    "#fitting the model with the chosen alpha\n",
    "rr_final=Ridge(alpha=46,fit_intercept=False)\n",
    "rr_final.fit(X_new,y_new)\n",
    "coeff=rr_final.coef_\n",
    "predict_rr=rr_final.predict(X_test)\n",
    "RMSE_rr=mean_squared_error(y_test,predict_rr)**0.5\n",
    "print(\"RMSE is:\",RMSE_rr)"
   ]
  },
  {
   "cell_type": "code",
   "execution_count": 56,
   "metadata": {},
   "outputs": [],
   "source": [
    "#writing a csv file in the final format for submission \n",
    "np.savetxt(\"coef_final.csv\", coeff, delimiter=\"\\n\", fmt='%s')"
   ]
  }
 ],
 "metadata": {
  "kernelspec": {
   "display_name": "Python 3",
   "language": "python",
   "name": "python3"
  },
  "language_info": {
   "codemirror_mode": {
    "name": "ipython",
    "version": 3
   },
   "file_extension": ".py",
   "mimetype": "text/x-python",
   "name": "python",
   "nbconvert_exporter": "python",
   "pygments_lexer": "ipython3",
   "version": "3.8.0"
  }
 },
 "nbformat": 4,
 "nbformat_minor": 2
}
