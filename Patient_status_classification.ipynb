{
 "cells": [
  {
   "cell_type": "code",
   "execution_count": 1,
   "metadata": {},
   "outputs": [],
   "source": [
    "#import libraries\n",
    "import numpy as np\n",
    "import pandas as pd\n",
    "import csv\n",
    "from sklearn.svm import LinearSVC\n",
    "from sklearn.svm import SVC\n",
    "from sklearn.calibration import CalibratedClassifierCV\n",
    "import sklearn.metrics as metrics\n",
    "import sys\n",
    "import xgboost as xgb\n",
    "from xgboost.sklearn import XGBClassifier\n",
    "from sklearn.impute import KNNImputer\n",
    "from sklearn.model_selection import train_test_split\n",
    "from sklearn.model_selection import GridSearchCV"
   ]
  },
  {
   "cell_type": "code",
   "execution_count": 2,
   "metadata": {},
   "outputs": [],
   "source": [
    "#reading training and test data\n",
    "train_features=pd.read_csv(\"train_features.csv\")\n",
    "train_labels=pd.read_csv(\"train_labels.csv\")\n",
    "test_features=pd.read_csv(\"test_features.csv\")"
   ]
  },
  {
   "cell_type": "code",
   "execution_count": 3,
   "metadata": {},
   "outputs": [],
   "source": [
    "t=np.array([1,2,3,4,5,6,7,8,9,10,11,12])\n",
    "t_array=np.tile(t,18995)\n",
    "time1=pd.DataFrame(data=t_array,columns={'Time_std'})"
   ]
  },
  {
   "cell_type": "code",
   "execution_count": 4,
   "metadata": {},
   "outputs": [],
   "source": [
    "#data_cleaning for the training features\n",
    "#replacing the time value as 1 to 12 uniformly for all patients\n",
    "train_features['Time'] = time1['Time_std'].values\n",
    "#making the time series values horizontal, thereby creating single row for each patient\n",
    "train_features=train_features.pivot(index='pid',columns='Time')\n",
    "#removing the 12 duplicates for the age variable and replacing by a single column\n",
    "age=pd.DataFrame(data=np.array(train_features['Age'][1]),columns={'Age'})\n",
    "train_features=train_features.drop(['Age'],axis=1)\n",
    "train_features['Age'] = age['Age'].values"
   ]
  },
  {
   "cell_type": "code",
   "execution_count": 5,
   "metadata": {},
   "outputs": [],
   "source": [
    "#performing the above set of data cleaning for the test features\n",
    "t_array_test=np.tile(t,12664)\n",
    "time1_test=pd.DataFrame(data=t_array_test,columns={'Time_std'})\n",
    "test_features['Time'] = time1_test['Time_std'].values\n",
    "test_features=test_features.pivot(index='pid',columns='Time')\n",
    "age_test=pd.DataFrame(data=np.array(test_features['Age'][1]),columns={'Age'})\n",
    "test_features=test_features.drop(['Age'],axis=1)\n",
    "test_features['Age'] = age_test['Age'].values"
   ]
  },
  {
   "cell_type": "code",
   "execution_count": 6,
   "metadata": {},
   "outputs": [],
   "source": [
    "#sorting the training labels by pid \n",
    "train_labels=train_labels.sort_values(by=['pid'])\n",
    "train_labels=train_labels.set_index('pid')"
   ]
  },
  {
   "cell_type": "code",
   "execution_count": 29,
   "metadata": {},
   "outputs": [
    {
     "name": "stderr",
     "output_type": "stream",
     "text": [
      "c:\\users\\srividhya\\appdata\\local\\programs\\python\\python38\\lib\\site-packages\\numpy\\lib\\nanfunctions.py:1115: RuntimeWarning: All-NaN slice encountered\n",
      "  r, k = function_base._ureduce(a, func=_nanmedian, axis=axis, out=out,\n",
      "<ipython-input-29-771b0bff62e3>:11: RuntimeWarning: All-NaN axis encountered\n",
      "  train_features['Temp_impute']=np.nanmax(train_features['Temp'],axis=1)\n",
      "<ipython-input-29-771b0bff62e3>:12: RuntimeWarning: All-NaN axis encountered\n",
      "  train_features['Glucose_min']=np.nanmin(train_features['Glucose'],axis=1)\n",
      "<ipython-input-29-771b0bff62e3>:13: RuntimeWarning: All-NaN axis encountered\n",
      "  train_features['Glucose_max']=np.nanmax(train_features['Glucose'],axis=1)\n",
      "<ipython-input-29-771b0bff62e3>:14: RuntimeWarning: All-NaN axis encountered\n",
      "  train_features['Pot_min']=np.nanmin(train_features['Potassium'],axis=1)\n",
      "<ipython-input-29-771b0bff62e3>:15: RuntimeWarning: All-NaN axis encountered\n",
      "  train_features['Pot_max']=np.nanmax(train_features['Potassium'],axis=1)\n",
      "<ipython-input-29-771b0bff62e3>:16: RuntimeWarning: All-NaN axis encountered\n",
      "  train_features['ABPd_impute']=np.nanmax(train_features['ABPd'],axis=1)\n",
      "<ipython-input-29-771b0bff62e3>:17: RuntimeWarning: All-NaN axis encountered\n",
      "  train_features['ABPs_impute']=np.nanmax(train_features['ABPs'],axis=1)\n"
     ]
    }
   ],
   "source": [
    "#Adding median/max/minimum (depending on the feature) across the 12 hours, as new predictor columns \n",
    "train_features['EtCO2_impute']=np.nanmedian(train_features['EtCO2'],axis=1)\n",
    "rows=np.array([1,1,2,3,5,6,7,9,10,11,12,13,14,15,16,17,20,23,24,26,27,28,30,31,33])\n",
    "names=np.array(['EtCO2','PTT','BUN','Lactate','Hgb','HCO3','BaseExcess','Fibrinogen','Phosphate','WBC','Creatinine','PaCO2','AST','FiO2','Platelets','SaO2','Magnesium','Calcium','Alkalinephos','Bilirubin_direct','Chloride','Hct','Bilirubin_total','TroponinI','pH','consol.'])\n",
    "for i in range(1,25):\n",
    "    b=12*rows[i]\n",
    "    e=b+12\n",
    "    s=\"_\"\n",
    "    s=s.join([names[i],names[25]])\n",
    "    train_features[s]=np.nanmedian(train_features.iloc[:,b:e],axis=1)\n",
    "train_features['Temp_impute']=np.nanmax(train_features['Temp'],axis=1)\n",
    "train_features['Glucose_min']=np.nanmin(train_features['Glucose'],axis=1)\n",
    "train_features['Glucose_max']=np.nanmax(train_features['Glucose'],axis=1)\n",
    "train_features['Pot_min']=np.nanmin(train_features['Potassium'],axis=1)\n",
    "train_features['Pot_max']=np.nanmax(train_features['Potassium'],axis=1)\n",
    "train_features['ABPd_impute']=np.nanmax(train_features['ABPd'],axis=1)\n",
    "train_features['ABPs_impute']=np.nanmax(train_features['ABPs'],axis=1)\n",
    "train_features['RRate_impute']=np.nanmedian(train_features['RRate'],axis=1)\n",
    "train_features['ABPm_impute']=np.nanmedian(train_features['ABPm'],axis=1)\n",
    "train_features['SpO2_impute']=np.nanmedian(train_features['SpO2'],axis=1)\n",
    "train_features['Heartrate_impute']=np.nanmedian(train_features['Heartrate'],axis=1)"
   ]
  },
  {
   "cell_type": "code",
   "execution_count": 30,
   "metadata": {},
   "outputs": [
    {
     "name": "stderr",
     "output_type": "stream",
     "text": [
      "<ipython-input-30-38538ae9f773>:11: RuntimeWarning: All-NaN axis encountered\n",
      "  test_features['Temp_impute']=np.nanmax(test_features['Temp'],axis=1)\n",
      "<ipython-input-30-38538ae9f773>:12: RuntimeWarning: All-NaN axis encountered\n",
      "  test_features['Glucose_min']=np.nanmin(test_features['Glucose'],axis=1)\n",
      "<ipython-input-30-38538ae9f773>:13: RuntimeWarning: All-NaN axis encountered\n",
      "  test_features['Glucose_max']=np.nanmax(test_features['Glucose'],axis=1)\n",
      "<ipython-input-30-38538ae9f773>:14: RuntimeWarning: All-NaN axis encountered\n",
      "  test_features['Pot_min']=np.nanmin(test_features['Potassium'],axis=1)\n",
      "<ipython-input-30-38538ae9f773>:15: RuntimeWarning: All-NaN axis encountered\n",
      "  test_features['Pot_max']=np.nanmax(test_features['Potassium'],axis=1)\n",
      "<ipython-input-30-38538ae9f773>:16: RuntimeWarning: All-NaN axis encountered\n",
      "  test_features['ABPd_impute']=np.nanmax(test_features['ABPd'],axis=1)\n",
      "<ipython-input-30-38538ae9f773>:17: RuntimeWarning: All-NaN axis encountered\n",
      "  test_features['ABPs_impute']=np.nanmax(test_features['ABPs'],axis=1)\n"
     ]
    }
   ],
   "source": [
    "#Adding median/max/minimum (depending on the feature) across the 12 hours, as new predictor columns \n",
    "test_features['EtCO2_impute']=np.nanmedian(test_features['EtCO2'],axis=1)\n",
    "rows=np.array([1,1,2,3,5,6,7,9,10,11,12,13,14,15,16,17,20,23,24,26,27,28,30,31,33])\n",
    "names=np.array(['EtCO2','PTT','BUN','Lactate','Hgb','HCO3','BaseExcess','Fibrinogen','Phosphate','WBC','Creatinine','PaCO2','AST','FiO2','Platelets','SaO2','Magnesium','Calcium','Alkalinephos','Bilirubin_direct','Chloride','Hct','Bilirubin_total','TroponinI','pH','consol.'])\n",
    "for i in range(1,25):\n",
    "    b=12*rows[i]\n",
    "    e=b+12\n",
    "    s=\"_\"\n",
    "    s=s.join([names[i],names[25]])\n",
    "    test_features[s]=np.nanmedian(test_features.iloc[:,b:e],axis=1)\n",
    "test_features['Temp_impute']=np.nanmax(test_features['Temp'],axis=1)\n",
    "test_features['Glucose_min']=np.nanmin(test_features['Glucose'],axis=1)\n",
    "test_features['Glucose_max']=np.nanmax(test_features['Glucose'],axis=1)\n",
    "test_features['Pot_min']=np.nanmin(test_features['Potassium'],axis=1)\n",
    "test_features['Pot_max']=np.nanmax(test_features['Potassium'],axis=1)\n",
    "test_features['ABPd_impute']=np.nanmax(test_features['ABPd'],axis=1)\n",
    "test_features['ABPs_impute']=np.nanmax(test_features['ABPs'],axis=1)\n",
    "test_features['RRate_impute']=np.nanmedian(test_features['RRate'],axis=1)\n",
    "test_features['ABPm_impute']=np.nanmedian(test_features['ABPm'],axis=1)\n",
    "test_features['SpO2_impute']=np.nanmedian(test_features['SpO2'],axis=1)\n",
    "test_features['Heartrate_impute']=np.nanmedian(test_features['Heartrate'],axis=1)"
   ]
  },
  {
   "cell_type": "code",
   "execution_count": 31,
   "metadata": {},
   "outputs": [],
   "source": [
    "#creating the test_label data frame\n",
    "column_names=['LABEL_BaseExcess','LABEL_Fibrinogen','LABEL_AST','LABEL_Alkalinephos','LABEL_Bilirubin_total','LABEL_Lactate','LABEL_TroponinI','LABEL_SaO2','LABEL_Bilirubin_direct','LABEL_EtCO2','LABEL_Sepsis','LABEL_RRate','LABEL_ABPm','LABEL_SpO2','LABEL_Heartrate']\n",
    "test_label=pd.DataFrame(columns=column_names)\n",
    "test_label['pid']=test_features.index.values\n",
    "test_label=test_label.set_index('pid')\n",
    "train_features_class=train_features\n",
    "test_features_class=test_features"
   ]
  },
  {
   "cell_type": "code",
   "execution_count": 32,
   "metadata": {},
   "outputs": [],
   "source": [
    "#defining a function for predicting labels based on specified model\n",
    "def modelfit(alg,train_features_class,train_label,test_features_class):\n",
    "    #if useTrainCV:\n",
    "    xgb_param=alg.get_xgb_params()\n",
    "    xgtrain= xgb.DMatrix(train_features_class, label=train_label)\n",
    "        #cvresult=xgb.cv(xgb_param,xgtrain,nfold=cv_folds,metrics='auc',early_stopping_rounds=early_stopping_rounds)\n",
    "        #alg.set_params(n_estimators=cvresult.shape[0])\n",
    "    alg.fit(train_features_class,train_label)\n",
    "    preds=alg.predict(train_features_class)\n",
    "    prob=alg.predict_proba(test_features_class)[:,1]\n",
    "    test_label.iloc[:,i]=prob\n",
    "    #print(cvresult.shape[0])\n",
    "    print(\"\\nModel Report\")\n",
    "    print(\"Precision = {}\".format(metrics.precision_score(train_label, preds)))\n",
    "    print(\"Recall = {}\".format(metrics.recall_score(train_label, preds)))\n",
    "    print(\"Accuracy = {}\".format(metrics.accuracy_score(train_label, preds)))\n",
    "    print(\"AUC = {}\".format(metrics.roc_auc_score(train_label, preds)))   \n",
    "#feat_imp = pd.Series(alg.get_booster().get_fscore()).sort_values(ascending=False)\n",
    "#feat_imp.plot(kind='bar', title='Feature Importances')\n",
    "#plt.ylabel('Feature Importance Score')"
   ]
  },
  {
   "cell_type": "code",
   "execution_count": 33,
   "metadata": {},
   "outputs": [
    {
     "name": "stdout",
     "output_type": "stream",
     "text": [
      "{'max_depth': 5, 'min_child_weight': 1, 'reg_alpha': 10}\n",
      "0.7403860512712781\n"
     ]
    }
   ],
   "source": [
    "#tuning hyperparameters for each target variable individually in multiple steps of grid search\n",
    "param_test1 = {\n",
    " 'max_depth':range(3,10,2),\n",
    " 'min_child_weight':range(1,6,2),\n",
    " 'reg_alpha':[0.01,0.1,1,10,100]\n",
    "}\n",
    "for i in range(10,11):\n",
    "    train_label=pd.DataFrame(data=train_labels.iloc[:,i],index=train_labels.index.values)\n",
    "    train_label=train_label.values.ravel()\n",
    "    gsearch = GridSearchCV(estimator = XGBClassifier( learning_rate =0.1, n_estimators=100, max_depth=5,\n",
    "    min_child_weight=1, gamma=0.3, subsample=0.9, colsample_bytree=0.9,\n",
    "    objective= 'binary:logistic', nthread=4, scale_pos_weight=1, seed=27), \n",
    "    param_grid = param_test1, scoring='roc_auc',n_jobs=4,cv=5)\n",
    "    gsearch.fit(train_features_class,train_label) \n",
    "    print(gsearch.best_params_)\n",
    "    print(gsearch.best_score_)"
   ]
  },
  {
   "cell_type": "code",
   "execution_count": 37,
   "metadata": {},
   "outputs": [
    {
     "name": "stdout",
     "output_type": "stream",
     "text": [
      "LABEL_BaseExcess\n",
      "\n",
      "Model Report\n",
      "Precision = 0.9856054191363252\n",
      "Recall = 0.9136577708006279\n",
      "Accuracy = 0.9732561200315872\n",
      "AUC = 0.9543826662478568\n",
      "LABEL_Fibrinogen\n",
      "\n",
      "Model Report\n",
      "Precision = 0.967479674796748\n",
      "Recall = 0.425\n",
      "Accuracy = 0.9565675177678337\n",
      "AUC = 0.7119316567206593\n",
      "LABEL_AST\n",
      "\n",
      "Model Report\n",
      "Precision = 0.9864982578397212\n",
      "Recall = 0.497364953886693\n",
      "Accuracy = 0.8778625954198473\n",
      "AUC = 0.7476091440716617\n",
      "LABEL_Alkalinephos\n",
      "\n",
      "Model Report\n",
      "Precision = 0.9365798414496036\n",
      "Recall = 0.3686204591040784\n",
      "Accuracy = 0.8449591997894182\n",
      "AUC = 0.6804502902082289\n",
      "LABEL_Bilirubin_total\n",
      "\n",
      "Model Report\n",
      "Precision = 0.9935691318327974\n",
      "Recall = 0.6085339168490154\n",
      "Accuracy = 0.9048697025533035\n",
      "AUC = 0.8036430416134158\n",
      "LABEL_Lactate\n",
      "\n",
      "Model Report\n",
      "Precision = 0.9161877394636015\n",
      "Recall = 0.5030239284775178\n",
      "Accuracy = 0.8912871808370624\n",
      "AUC = 0.7457523539175372\n",
      "LABEL_TroponinI\n",
      "\n",
      "Model Report\n",
      "Precision = 0.8848207475209764\n",
      "Recall = 0.6121372031662269\n",
      "Accuracy = 0.9533561463543038\n",
      "AUC = 0.8016533969047508\n",
      "LABEL_SaO2\n",
      "\n",
      "Model Report\n",
      "Precision = 0.876206322795341\n",
      "Recall = 0.5931516107231358\n",
      "Accuracy = 0.8853382469070809\n",
      "AUC = 0.7837975695825077\n",
      "LABEL_Bilirubin_direct\n",
      "\n",
      "Model Report\n",
      "Precision = 0.9296875\n",
      "Recall = 0.18478260869565216\n",
      "Accuracy = 0.9718873387733614\n",
      "AUC = 0.5921460861035888\n",
      "LABEL_EtCO2\n",
      "\n",
      "Model Report\n",
      "Precision = 0.9443181818181818\n",
      "Recall = 0.6626794258373205\n",
      "Accuracy = 0.9751513556199\n",
      "AUC = 0.8299587310123415\n",
      "LABEL_Sepsis\n",
      "\n",
      "Model Report\n",
      "Precision = 1.0\n",
      "Recall = 0.03952205882352941\n",
      "Accuracy = 0.9449855225059226\n",
      "AUC = 0.5197610294117647\n"
     ]
    }
   ],
   "source": [
    "#running a loop to predict labels for subtask 1 and 2 \n",
    "names=np.array(['BaseExcess','Fibrinogen','AST','Alkalinephos','Bilirubin_total','Lactate','TroponinI','SaO2','Bilirubin_direct','EtCO2','Sepsis','LABEL'])\n",
    "max_depth_=np.array([9,5,7,5,9,5,5,5,3,3,3])\n",
    "min_child_=np.array([5,5,3,1,5,5,1,5,1,5,1])\n",
    "for i in range(0,11):\n",
    "    s=\"_\"\n",
    "    s=s.join([names[11],names[i]])\n",
    "    train_label=pd.DataFrame(data=train_labels.iloc[:,i],index=train_labels.index.values)\n",
    "    train_label=train_label.values.ravel()\n",
    "    xgb1=XGBClassifier(\n",
    "    learning_rate=0.1,\n",
    "    max_depth=max_depth_[i],\n",
    "    min_child_weight=min_child_[i])\n",
    "    print(s)\n",
    "    modelfit(xgb1,train_features_class,train_label,test_features_class)"
   ]
  },
  {
   "cell_type": "code",
   "execution_count": 35,
   "metadata": {},
   "outputs": [
    {
     "name": "stdout",
     "output_type": "stream",
     "text": [
      "0.642518102240846\n",
      "0.7467815072105362\n",
      "0.6666123197548975\n",
      "0.7706687594300767\n"
     ]
    }
   ],
   "source": [
    "#running a loop to predict values for subtask 3 after parameter tuning\n",
    "names=np.array(['RRate','ABPm','SpO2','Heartrate'])\n",
    "alpha_=np.array([25,75,25,25])\n",
    "learn_rate = [0.08,0.07,0.08,0.06]\n",
    "for i in range(0,4):\n",
    "    train_label=pd.DataFrame()\n",
    "    train_label=train_labels.iloc[:,(i+11)]\n",
    "    train_label=train_label.values.ravel()\n",
    "    #param={'learning_rate':0.01,'objective':'reg:squarederror','seed':1,'max_depth': 5,'min_child_weight':1,'reg_alpha':alpha_[i],'metrics':'rmse'}\n",
    "    xgtrain= xgb.DMatrix(train_features_class, label=train_label)\n",
    "    #cvresult=xgb.cv(dtrain=xgtrain,params=param,num_boost_round=1000,nfold=5,stratified=False)\n",
    "    #best_round=cvresult.shape[0]\n",
    "    xgb2 = xgb.XGBRegressor(learning_rate=learn_rate[i])\n",
    "    model=xgb2.fit(train_features_class,train_label)\n",
    "    pred=xgb2.predict(train_features_class)\n",
    "    #print(cvresult.shape[0])\n",
    "    print(metrics.r2_score(train_label,pred))\n",
    "    pred_reg=xgb2.predict(test_features_class)\n",
    "    test_label.iloc[:,(i+11)]=pred_reg"
   ]
  },
  {
   "cell_type": "code",
   "execution_count": 36,
   "metadata": {},
   "outputs": [],
   "source": [
    "#writing the final predictions and saving as a zip file\n",
    "compression_opts = dict(method='zip',\n",
    "                        archive_name='prediction_final.csv')  \n",
    "test_label.to_csv('prediction_final.zip', index=True,float_format='%.3f',compression=compression_opts)  "
   ]
  }
 ],
 "metadata": {
  "kernelspec": {
   "display_name": "Python 3",
   "language": "python",
   "name": "python3"
  },
  "language_info": {
   "codemirror_mode": {
    "name": "ipython",
    "version": 3
   },
   "file_extension": ".py",
   "mimetype": "text/x-python",
   "name": "python",
   "nbconvert_exporter": "python",
   "pygments_lexer": "ipython3",
   "version": "3.8.5"
  }
 },
 "nbformat": 4,
 "nbformat_minor": 4
}
