{
 "cells": [
  {
   "cell_type": "code",
   "execution_count": 1,
   "metadata": {},
   "outputs": [],
   "source": [
    "import pandas as pd\n",
    "import matplotlib.pyplot as plt\n",
    "import pywt\n",
    "import pyeeg\n",
    "import nolds\n",
    "import math\n",
    "import numpy as np\n",
    "import warnings\n",
    "from sklearn.svm import SVC\n",
    "from sklearn.model_selection import RepeatedStratifiedKFold\n",
    "from sklearn.model_selection import cross_val_score\n",
    "from sklearn.metrics import balanced_accuracy_score\n",
    "from sklearn.model_selection import train_test_split\n",
    "import sklearn.metrics as metrics"
   ]
  },
  {
   "cell_type": "code",
   "execution_count": 2,
   "metadata": {},
   "outputs": [],
   "source": [
    "#timefrequency domain features\n",
    "#get wavelet transform\n",
    "def DWT (x):\n",
    "    wt_trans=pywt.dwt(x,'db4')\n",
    "    return wt_trans\n",
    "#time domain features\n",
    "#Hjorth features\n",
    "def Hjorth(x):\n",
    "    hj=pyeeg.hjorth(x)\n",
    "    return hj\n",
    "#detrended fluctuation analysis\n",
    "def DFA(x):\n",
    "    dfa=pyeeg.dfa(x)\n",
    "    return np.array(dfa)\n",
    "#first order difference\n",
    "def FirstDiff(x):\n",
    "    fd=pyeeg.first_order_diff(x)\n",
    "    return fd\n",
    "#Hurst exponent feature\n",
    "def Hurst(x):\n",
    "    hur=pyeeg.hurst(x)\n",
    "    return np.array(hur)\n",
    "#statistical features\n",
    "def stats(x):\n",
    "    mean=np.mean(x)\n",
    "    sd=np.std(x)\n",
    "    return np.array((mean,sd))\n",
    "#petrosian fractal dimension \n",
    "def PFD(x):\n",
    "    pfd=pyeeg.pfd(x)\n",
    "    return np.array(pfd)\n",
    "#Power features (fft - fourier transform)\n",
    "def Power(x):\n",
    "    F=np.fft.fft(x)\n",
    "    P=F*np.conjugate(F)\n",
    "    power=sum(P)\n",
    "    pr=math.sqrt(power.real*power.real + power.imag*power.imag)\n",
    "    return np.array(pr) \n",
    "#correlation dimension features\n",
    "def CorrelationDimension(x):\n",
    "    cd=nolds.corr_dim(x,1)\n",
    "    return np.array(cd)\n",
    "#frequency domain features\n",
    "#band power for each frequency\n",
    "def Bandpower(x):\n",
    "    fs=128\n",
    "    band=[1,4,8,12,30]\n",
    "    bp=pyeeg.bin_power(x,band,fs)\n",
    "    return bp\n",
    "def SpectralEntropy(x):\n",
    "    fs=128\n",
    "    band=[1,4,8,12,30]\n",
    "    b=pyeeg.bin_power(x,band,fs)\n",
    "    se=pyeeg.spectral_entropy(x,band,fs,Power_Ratio=b)\n",
    "    se=[0 if math.isnan(x) else x for x in se]\n",
    "    return se\n",
    "import tsfel\n",
    "def get_tsfel_features(ts,fs):\n",
    "    cfg = tsfel.get_features_by_domain()\n",
    "    return tsfel.time_series_features_extractor(cfg, ts, fs, verbose=False).values[0]\n",
    "def get_features(train):\n",
    "    features=[]\n",
    "    for i in np.arange(0,len(train),1):\n",
    "        print(i)\n",
    "        warnings.filterwarnings(\"ignore\")\n",
    "        data=train.iloc[i,:]\n",
    "        wt=DWT(data)[0]\n",
    "        hj=Hjorth(data)\n",
    "        dfa=DFA(data).reshape(1,)\n",
    "        hurst=Hurst(data).reshape(1,)\n",
    "        mean=stats(data)[0].reshape(1,)\n",
    "        sd=stats(data)[1].reshape(1,)\n",
    "        pfd=PFD(data).reshape(1,)\n",
    "        power=Power(data).reshape(1,)\n",
    "        cd=CorrelationDimension(data).reshape(1,)\n",
    "        bp=Bandpower(data)\n",
    "        se=SpectralEntropy(data)\n",
    "        tsfel_fts =get_tsfel_features(data,128)\n",
    "        ft = np.concatenate([wt,hj,dfa,hurst,mean,sd,pfd,power,cd,bp[0],bp[1],se,tsfel_fts])\n",
    "        features.append(ft)\n",
    "    features = pd.DataFrame(features)\n",
    "    return(features)"
   ]
  },
  {
   "cell_type": "code",
   "execution_count": 3,
   "metadata": {},
   "outputs": [],
   "source": [
    "def get_wt(train):\n",
    "    features=[]\n",
    "    for i in np.arange(0,len(train),1):\n",
    "        warnings.filterwarnings(\"ignore\")\n",
    "        data=train.iloc[i,:]\n",
    "        wt=DWT(data)[1]\n",
    "        ft = np.concatenate([wt])\n",
    "        features.append(ft)\n",
    "    features = pd.DataFrame(features)\n",
    "    return(features)"
   ]
  },
  {
   "cell_type": "code",
   "execution_count": 4,
   "metadata": {},
   "outputs": [],
   "source": [
    "def get_last_stage(train):\n",
    "    features=[]\n",
    "    for i in np.arange(0,len(train),1):\n",
    "        warnings.filterwarnings(\"ignore\")\n",
    "        if i<2:\n",
    "            ls_1=train.iloc[i,:]\n",
    "            ls_2=train.iloc[i,:]\n",
    "            ls_3=train.iloc[(i+1),:]\n",
    "            ls_4=train.iloc[(i+2),:]\n",
    "        elif i<(len(train)-2):\n",
    "            ls_1=train.iloc[(i-1),:]\n",
    "            ls_2=train.iloc[(i-2),:]\n",
    "            ls_3=train.iloc[(i+1),:]\n",
    "            ls_4=train.iloc[(i+2),:]\n",
    "        else:\n",
    "            ls_1=train.iloc[(i-1),:]\n",
    "            ls_2=train.iloc[(i-2),:]\n",
    "            ls_3=train.iloc[(i),:]\n",
    "            ls_4=train.iloc[(i),:]\n",
    "        ft = np.concatenate([ls_1,ls_2,ls_3,ls_4])\n",
    "        features.append(ft)\n",
    "    features = pd.DataFrame(features)\n",
    "    return(features)"
   ]
  },
  {
   "cell_type": "code",
   "execution_count": 5,
   "metadata": {},
   "outputs": [],
   "source": [
    "def bandpower(data, sf, band, method='welch', window_sec=None, relative=False):\n",
    "    from scipy.signal import welch\n",
    "    from scipy.integrate import simps\n",
    "    from mne.time_frequency import psd_array_multitaper\n",
    "\n",
    "    band = np.asarray(band)\n",
    "    low, high = band\n",
    "\n",
    "    # Compute the modified periodogram (Welch)\n",
    "    if method == 'welch':\n",
    "        if window_sec is not None:\n",
    "            nperseg = window_sec * sf\n",
    "        else:\n",
    "            nperseg = (2 / low) * sf\n",
    "\n",
    "        freqs, psd = welch(data, sf, nperseg=nperseg)\n",
    "\n",
    "    elif method == 'multitaper':\n",
    "        psd, freqs = psd_array_multitaper(data, sf, adaptive=True,\n",
    "                                          normalization='full', verbose=0)\n",
    "\n",
    "    # Frequency resolution\n",
    "    freq_res = freqs[1] - freqs[0]\n",
    "\n",
    "    # Find index of band in frequency vector\n",
    "    idx_band = np.logical_and(freqs >= low, freqs <= high)\n",
    "\n",
    "    # Integral approximation of the spectrum using parabola (Simpson's rule)\n",
    "    bp = simps(psd[idx_band], dx=freq_res)\n",
    "\n",
    "    if relative:\n",
    "        bp /= simps(psd, dx=freq_res)\n",
    "    return bp\n",
    "def get_emg_fts(emg):\n",
    "    \"\"\"\n",
    "    MAV (mean absolute value);\n",
    "    ZC (zero crossing);\n",
    "    WL (waveform length)\n",
    "    \"\"\"\n",
    "    mav = sum(abs(emg))/len(emg)\n",
    "    zc = 0\n",
    "    for i in np.arange(0,len(emg)-1,1):\n",
    "        if emg[i]*emg[i+1] < 0:\n",
    "            zc = zc + 1\n",
    "    wl = 0\n",
    "    for i in np.arange(0,len(emg)-1,1):\n",
    "        wl = wl + abs(emg[i+1]-emg[i])\n",
    "    return([mav, zc, wl])\n",
    "def eeg_band_power(eeg, freq):\n",
    "    delta = bandpower(eeg, freq, [0.5, 4], 'multitaper')\n",
    "    theta = bandpower(eeg, freq, [4, 8], 'multitaper')\n",
    "    alpha = bandpower(eeg, freq, [8, 12], 'multitaper')\n",
    "    beta = bandpower(eeg, freq, [12, 30], 'multitaper')\n",
    "    # delta_beta ratio\n",
    "    db_ratio = bandpower(eeg, freq, [0.5, 4], 'multitaper') / bandpower(eeg, freq, [12, 30], 'multitaper')\n",
    "    return([delta,theta,alpha,beta,db_ratio])"
   ]
  },
  {
   "cell_type": "code",
   "execution_count": 6,
   "metadata": {},
   "outputs": [],
   "source": [
    "def extract_ft(eeg1, eeg2, emg, freq):\n",
    "    emg_fts = get_emg_fts(emg)\n",
    "    eeg1_bp = eeg_band_power(eeg1, freq)\n",
    "    eeg2_bp = eeg_band_power(eeg2, freq)\n",
    "    tmp = np.concatenate([emg_fts,eeg1_bp, eeg2_bp])\n",
    "    return tmp"
   ]
  },
  {
   "cell_type": "code",
   "execution_count": null,
   "metadata": {},
   "outputs": [],
   "source": [
    "ft_mat = []\n",
    "for i in np.arange(0,len(train_eeg1),1):\n",
    "    tmp = extract_ft(train_eeg1.iloc[i,:],train_eeg2.iloc[i,:],train_emg.iloc[i,:],128)\n",
    "    ft_mat.append(tmp)\n",
    "ft_mat = pd.DataFrame(ft_mat)\n",
    "ft_mat.to_csv('ft_mat.csv', index=True)"
   ]
  },
  {
   "cell_type": "code",
   "execution_count": 7,
   "metadata": {},
   "outputs": [],
   "source": [
    "train_eeg1=pd.read_csv(\"task data/train_eeg1.csv\")\n",
    "train_eeg2=pd.read_csv(\"task data/train_eeg2.csv\")\n",
    "train_emg=pd.read_csv(\"task data/train_emg.csv\")\n",
    "train_eeg1=train_eeg1.set_index('Id')\n",
    "train_eeg2=train_eeg2.set_index('Id')\n",
    "train_emg=train_emg.set_index('Id')"
   ]
  },
  {
   "cell_type": "code",
   "execution_count": 8,
   "metadata": {},
   "outputs": [],
   "source": [
    "train1=pd.read_csv(\"train1.csv\",index_col=0)\n",
    "train2=pd.read_csv(\"train2.csv\",index_col=0)\n",
    "train3=pd.read_csv(\"train3.csv\",index_col=0)\n",
    "y_train=pd.read_csv(\"train_labels.csv\")\n",
    "y_train=y_train.set_index('Id')"
   ]
  },
  {
   "cell_type": "code",
   "execution_count": 9,
   "metadata": {},
   "outputs": [],
   "source": [
    "train1=train1.iloc[:,260:670]\n",
    "train2=train2.iloc[:,260:670]\n",
    "train3=train3.iloc[:,260:670]"
   ]
  },
  {
   "cell_type": "code",
   "execution_count": 10,
   "metadata": {},
   "outputs": [],
   "source": [
    "ft_mat=pd.read_csv(\"ft_mat.csv\",index_col=0)"
   ]
  },
  {
   "cell_type": "code",
   "execution_count": 11,
   "metadata": {},
   "outputs": [],
   "source": [
    "pd.set_option('use_inf_as_na', True)\n",
    "train1.replace([np.inf,-np.inf], np.nan, inplace=True)\n",
    "train1 = train1.loc[:,train1.median().notna()]\n",
    "train1= train1.fillna(train1.median())\n",
    "train2.replace([np.inf,-np.inf], np.nan, inplace=True)\n",
    "train2 = train2.loc[:,train2.median().notna()]\n",
    "train2= train2.fillna(train2.median())\n",
    "train3.replace([np.inf,-np.inf], np.nan, inplace=True)\n",
    "train3 = train3.loc[:,train3.median().notna()]\n",
    "train3= train3.fillna(train3.median())"
   ]
  },
  {
   "cell_type": "code",
   "execution_count": 12,
   "metadata": {},
   "outputs": [
    {
     "name": "stdout",
     "output_type": "stream",
     "text": [
      "(64800, 1243)\n"
     ]
    }
   ],
   "source": [
    "frames = [train1,train2,train3,ft_mat]\n",
    "x_train = pd.concat(frames,axis=1)\n",
    "print(x_train.shape)"
   ]
  },
  {
   "cell_type": "code",
   "execution_count": 13,
   "metadata": {},
   "outputs": [],
   "source": [
    "ls_all=['X%d' % i for i in range(0, x_train.shape[1], 1)]\n",
    "x_train.columns=ls_all\n",
    "#x_train.to_csv('x_train_ext.csv', index=True)"
   ]
  },
  {
   "cell_type": "code",
   "execution_count": 14,
   "metadata": {},
   "outputs": [
    {
     "data": {
      "text/plain": [
       "(64800, 1189)"
      ]
     },
     "execution_count": 14,
     "metadata": {},
     "output_type": "execute_result"
    }
   ],
   "source": [
    "sd_values = x_train.std()\n",
    "cols_to_delete=np.where(sd_values==0)[0]\n",
    "x_train=x_train.drop(x_train.columns[cols_to_delete],axis=1)\n",
    "x_train.shape"
   ]
  },
  {
   "cell_type": "code",
   "execution_count": 15,
   "metadata": {},
   "outputs": [],
   "source": [
    "sd_values = x_train.std()\n",
    "mean_values = x_train.mean()\n",
    "x_train_normalised = (x_train - mean_values)/sd_values"
   ]
  },
  {
   "cell_type": "code",
   "execution_count": 30,
   "metadata": {},
   "outputs": [],
   "source": [
    "from sklearn.feature_selection import SelectKBest,f_classif\n",
    "selector = SelectKBest(f_classif, k=50)\n",
    "X_new = selector.fit_transform(x_train_normalised, y_train)\n",
    "mask_k = selector.get_support()\n",
    "selected_cols = x_train_normalised.columns[mask_k]\n",
    "X_new = pd.DataFrame(X_new)\n",
    "X_new.columns = selected_cols"
   ]
  },
  {
   "cell_type": "code",
   "execution_count": 31,
   "metadata": {},
   "outputs": [],
   "source": [
    "ft1_laststage=get_last_stage(X_new.iloc[0:21600,:])\n",
    "ft2_laststage=get_last_stage(X_new.iloc[21600:43200,:])\n",
    "ft3_laststage=get_last_stage(X_new.iloc[43200:64800,:])\n",
    "frames = [ft1_laststage,ft2_laststage,ft3_laststage]\n",
    "ft_laststage = pd.concat(frames,ignore_index=True)"
   ]
  },
  {
   "cell_type": "code",
   "execution_count": 32,
   "metadata": {},
   "outputs": [],
   "source": [
    "frames = [X_new,ft_laststage]\n",
    "x_final = pd.concat(frames,axis=1)"
   ]
  },
  {
   "cell_type": "code",
   "execution_count": 33,
   "metadata": {},
   "outputs": [
    {
     "data": {
      "text/plain": [
       "(64800, 250)"
      ]
     },
     "execution_count": 33,
     "metadata": {},
     "output_type": "execute_result"
    }
   ],
   "source": [
    "x_final.shape"
   ]
  },
  {
   "cell_type": "code",
   "execution_count": 34,
   "metadata": {},
   "outputs": [],
   "source": [
    "X_train=x_final.iloc[21600:64800,:]\n",
    "X_val=x_final.iloc[0:21600,:]\n",
    "Y_train=y_train.iloc[21600:64800,:]\n",
    "Y_val=y_train.iloc[0:21600,:]"
   ]
  },
  {
   "cell_type": "code",
   "execution_count": 35,
   "metadata": {},
   "outputs": [
    {
     "data": {
      "text/plain": [
       "0.9084749861035429"
      ]
     },
     "execution_count": 35,
     "metadata": {},
     "output_type": "execute_result"
    }
   ],
   "source": [
    "model = SVC(class_weight='balanced',gamma=0.02,C=0.1)\n",
    "model.fit(X_train,Y_train)\n",
    "preds=model.predict(X_val)\n",
    "metrics.balanced_accuracy_score(Y_val,preds)"
   ]
  },
  {
   "cell_type": "code",
   "execution_count": 36,
   "metadata": {},
   "outputs": [],
   "source": [
    "X_train,X_val,Y_train,Y_val=train_test_split(x_final,y_train,test_size=0.2,stratify=y_train,shuffle=True)"
   ]
  },
  {
   "cell_type": "code",
   "execution_count": 37,
   "metadata": {},
   "outputs": [
    {
     "data": {
      "text/plain": [
       "0.9618500401125706"
      ]
     },
     "execution_count": 37,
     "metadata": {},
     "output_type": "execute_result"
    }
   ],
   "source": [
    "model1 = SVC(class_weight='balanced',gamma=0.02,C=0.1)\n",
    "model1.fit(X_train,Y_train)\n",
    "preds=model1.predict(X_val)\n",
    "metrics.balanced_accuracy_score(Y_val,preds)"
   ]
  },
  {
   "cell_type": "code",
   "execution_count": 27,
   "metadata": {},
   "outputs": [],
   "source": [
    "test_eeg1=pd.read_csv(\"task data/test_eeg1.csv\")\n",
    "test_eeg2=pd.read_csv(\"task data/test_eeg2.csv\")\n",
    "test_emg=pd.read_csv(\"task data/test_emg.csv\")\n",
    "test_eeg1=test_eeg1.set_index('Id')\n",
    "test_eeg2=test_eeg2.set_index('Id')\n",
    "test_emg=test_emg.set_index('Id')"
   ]
  },
  {
   "cell_type": "code",
   "execution_count": 28,
   "metadata": {},
   "outputs": [],
   "source": [
    "test1=pd.read_csv(\"test1.csv\",index_col=0)\n",
    "test2=pd.read_csv(\"test2.csv\",index_col=0)\n",
    "test3=pd.read_csv(\"test3.csv\",index_col=0)"
   ]
  },
  {
   "cell_type": "code",
   "execution_count": 29,
   "metadata": {},
   "outputs": [],
   "source": [
    "test1=test1.iloc[:,260:670]\n",
    "test2=test2.iloc[:,260:670]\n",
    "test3=test3.iloc[:,260:670]"
   ]
  },
  {
   "cell_type": "code",
   "execution_count": 30,
   "metadata": {},
   "outputs": [],
   "source": [
    "ft_test_mat=pd.read_csv(\"ft_test_mat.csv\",index_col=0)"
   ]
  },
  {
   "cell_type": "code",
   "execution_count": 31,
   "metadata": {},
   "outputs": [],
   "source": [
    "pd.set_option('use_inf_as_na', True)\n",
    "test1.replace([np.inf,-np.inf], np.nan, inplace=True)\n",
    "test1 = test1.loc[:,test1.median().notna()]\n",
    "test1= test1.fillna(test1.median())\n",
    "test2.replace([np.inf,-np.inf], np.nan, inplace=True)\n",
    "test2 = test2.loc[:,test2.median().notna()]\n",
    "test2= test2.fillna(test2.median())\n",
    "test3.replace([np.inf,-np.inf], np.nan, inplace=True)\n",
    "test3 = test3.loc[:,test3.median().notna()]\n",
    "test3= test3.fillna(test3.median())\n",
    "frames_t = [test1,test2,test3,ft_test_mat]\n",
    "x_test = pd.concat(frames_t,axis=1)"
   ]
  },
  {
   "cell_type": "code",
   "execution_count": 32,
   "metadata": {},
   "outputs": [
    {
     "name": "stdout",
     "output_type": "stream",
     "text": [
      "(43200, 1189)\n"
     ]
    }
   ],
   "source": [
    "x_test.columns=ls_all\n",
    "#x_test.to_csv('x_test.csv', index=True)\n",
    "x_test=x_test.drop(x_test.columns[cols_to_delete],axis=1)\n",
    "print(x_test.shape)\n",
    "x_test_normalised = (x_test - mean_values)/sd_values\n",
    "X_test=x_test_normalised.loc[:,list(selected_cols)]"
   ]
  },
  {
   "cell_type": "code",
   "execution_count": 33,
   "metadata": {},
   "outputs": [],
   "source": [
    "ft1_laststage_t=get_last_stage(X_test.iloc[0:21600,:])\n",
    "ft2_laststage_t=get_last_stage(X_test.iloc[21600:43200,:])\n",
    "ft3_laststage_t=get_last_stage(X_test.iloc[43200:64800,:])\n",
    "frames = [ft1_laststage_t,ft2_laststage_t,ft3_laststage_t]\n",
    "ft_laststage_t = pd.concat(frames,ignore_index=True)"
   ]
  },
  {
   "cell_type": "code",
   "execution_count": 34,
   "metadata": {},
   "outputs": [],
   "source": [
    "frames = [X_test,ft_laststage_t]\n",
    "x_test_final = pd.concat(frames,axis=1)"
   ]
  },
  {
   "cell_type": "code",
   "execution_count": 35,
   "metadata": {},
   "outputs": [],
   "source": [
    "column_names=['y']\n",
    "y_test=pd.DataFrame(columns=column_names)\n",
    "y_test['Id']=x_test_normalised.index.values"
   ]
  },
  {
   "cell_type": "code",
   "execution_count": 36,
   "metadata": {},
   "outputs": [
    {
     "data": {
      "text/plain": [
       "(43200, 250)"
      ]
     },
     "execution_count": 36,
     "metadata": {},
     "output_type": "execute_result"
    }
   ],
   "source": [
    "x_test_final.shape"
   ]
  },
  {
   "cell_type": "code",
   "execution_count": 38,
   "metadata": {},
   "outputs": [],
   "source": [
    "y_test=y_test.set_index('Id')"
   ]
  },
  {
   "cell_type": "code",
   "execution_count": 53,
   "metadata": {},
   "outputs": [],
   "source": [
    "pred=model1.predict(x_test_final)\n",
    "y_test.iloc[:,0]=pred\n",
    "y_test.to_csv('SVC_RS_1.csv', index=True,float_format='%.3f')  "
   ]
  },
  {
   "cell_type": "code",
   "execution_count": null,
   "metadata": {},
   "outputs": [],
   "source": [
    "y1=pd.read_csv(\"SVC_LOM_1.csv\",index_col=0)\n",
    "y2=pd.read_csv(\"SVC_LOM_2.csv\",index_col=0)\n",
    "y3=pd.read_csv(\"SVC_LOM_3.csv\",index_col=0)\n",
    "y4=pd.read_csv(\"SVC_RS_1.csv\",index_col=0)\n",
    "y_combined=pd.concat([y1,y2,y3,y4],axis=1)"
   ]
  },
  {
   "cell_type": "code",
   "execution_count": 73,
   "metadata": {},
   "outputs": [],
   "source": [
    "y_softmax=[]\n",
    "for i in np.arange(0,len(y_combined),1):\n",
    "    data=np.array(y_combined.iloc[i,:])\n",
    "    counts = np.bincount(data)\n",
    "    soft_max=int(np.argmax(counts))\n",
    "    y_softmax=np.append(y_softmax,soft_max)"
   ]
  },
  {
   "cell_type": "code",
   "execution_count": 74,
   "metadata": {},
   "outputs": [
    {
     "data": {
      "text/html": [
       "<div>\n",
       "<style scoped>\n",
       "    .dataframe tbody tr th:only-of-type {\n",
       "        vertical-align: middle;\n",
       "    }\n",
       "\n",
       "    .dataframe tbody tr th {\n",
       "        vertical-align: top;\n",
       "    }\n",
       "\n",
       "    .dataframe thead th {\n",
       "        text-align: right;\n",
       "    }\n",
       "</style>\n",
       "<table border=\"1\" class=\"dataframe\">\n",
       "  <thead>\n",
       "    <tr style=\"text-align: right;\">\n",
       "      <th></th>\n",
       "      <th>y</th>\n",
       "    </tr>\n",
       "    <tr>\n",
       "      <th>Id</th>\n",
       "      <th></th>\n",
       "    </tr>\n",
       "  </thead>\n",
       "  <tbody>\n",
       "    <tr>\n",
       "      <th>0</th>\n",
       "      <td>1.0</td>\n",
       "    </tr>\n",
       "    <tr>\n",
       "      <th>1</th>\n",
       "      <td>1.0</td>\n",
       "    </tr>\n",
       "    <tr>\n",
       "      <th>2</th>\n",
       "      <td>1.0</td>\n",
       "    </tr>\n",
       "    <tr>\n",
       "      <th>3</th>\n",
       "      <td>1.0</td>\n",
       "    </tr>\n",
       "    <tr>\n",
       "      <th>4</th>\n",
       "      <td>1.0</td>\n",
       "    </tr>\n",
       "    <tr>\n",
       "      <th>...</th>\n",
       "      <td>...</td>\n",
       "    </tr>\n",
       "    <tr>\n",
       "      <th>43195</th>\n",
       "      <td>1.0</td>\n",
       "    </tr>\n",
       "    <tr>\n",
       "      <th>43196</th>\n",
       "      <td>1.0</td>\n",
       "    </tr>\n",
       "    <tr>\n",
       "      <th>43197</th>\n",
       "      <td>1.0</td>\n",
       "    </tr>\n",
       "    <tr>\n",
       "      <th>43198</th>\n",
       "      <td>1.0</td>\n",
       "    </tr>\n",
       "    <tr>\n",
       "      <th>43199</th>\n",
       "      <td>1.0</td>\n",
       "    </tr>\n",
       "  </tbody>\n",
       "</table>\n",
       "<p>43200 rows × 1 columns</p>\n",
       "</div>"
      ],
      "text/plain": [
       "         y\n",
       "Id        \n",
       "0      1.0\n",
       "1      1.0\n",
       "2      1.0\n",
       "3      1.0\n",
       "4      1.0\n",
       "...    ...\n",
       "43195  1.0\n",
       "43196  1.0\n",
       "43197  1.0\n",
       "43198  1.0\n",
       "43199  1.0\n",
       "\n",
       "[43200 rows x 1 columns]"
      ]
     },
     "execution_count": 74,
     "metadata": {},
     "output_type": "execute_result"
    }
   ],
   "source": [
    "y_test.iloc[:,0]=y_softmax\n",
    "y_test.to_csv('SVC_softmax.csv', index=True,float_format='%.3f')  \n",
    "y_test"
   ]
  }
 ],
 "metadata": {
  "kernelspec": {
   "display_name": "Python 3",
   "language": "python",
   "name": "python3"
  },
  "language_info": {
   "codemirror_mode": {
    "name": "ipython",
    "version": 3
   },
   "file_extension": ".py",
   "mimetype": "text/x-python",
   "name": "python",
   "nbconvert_exporter": "python",
   "pygments_lexer": "ipython3",
   "version": "3.8.5"
  }
 },
 "nbformat": 4,
 "nbformat_minor": 4
}
